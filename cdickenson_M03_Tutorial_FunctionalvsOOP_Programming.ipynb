{
 "cells": [
  {
   "cell_type": "markdown",
   "id": "d4f3aa0a-ade0-4b0c-b2cc-be1fba47bce7",
   "metadata": {},
   "source": [
    "SDEV220\n",
    "Carolyn Dickenson\n",
    "04/03/2024"
   ]
  },
  {
   "cell_type": "markdown",
   "id": "7775079a-eec6-4f38-83dd-b559c936538b",
   "metadata": {},
   "source": [
    "The purpose of this assignment is to examine the natures and code of OOP vs Functional styles of programming.\n",
    "\r",
    "Classes and ObjectsLinks\n"
   ]
  },
  {
   "cell_type": "markdown",
   "id": "e472551c-25d3-4fc4-a332-cbb9a6dacea0",
   "metadata": {},
   "source": [
    "Python3 program to demonstrate creating a class and creating an instance of that class."
   ]
  },
  {
   "cell_type": "code",
   "execution_count": 15,
   "id": "a5ba50e3-51f6-40db-9a8a-f4943b29cf13",
   "metadata": {},
   "outputs": [
    {
     "name": "stdout",
     "output_type": "stream",
     "text": [
      "mammal\n",
      "I'm a mammal\n",
      "I'm a dog\n"
     ]
    }
   ],
   "source": [
    "#A simple Dog class with class attributes and a method.\n",
    "class Dog:\n",
    "    # Class attributes\n",
    "    attr1 = \"mammal\"\n",
    "    attr2 = \"dog\"\n",
    "\n",
    "    # Method to display the dog's attributes\n",
    "    def fun(self):\n",
    "        print(\"I'm a\", self.attr1)\n",
    "        print(\"I'm a\", self.attr2)\n",
    "\n",
    "if __name__ == \"__main__\":\n",
    "    # Creating an instance of the Dog class\n",
    "    Rodger = Dog()\n",
    "\n",
    "    # Accessing and printing a class attribute\n",
    "    print(Rodger.attr1)\n",
    "\n",
    "    # Calling a method of the Dog class\n",
    "    Rodger.fun()"
   ]
  },
  {
   "cell_type": "markdown",
   "id": "91432230-0d82-4675-a8ee-1a6d112edb6a",
   "metadata": {},
   "source": [
    " "
   ]
  },
  {
   "cell_type": "markdown",
   "id": "bd8380d7-5fc6-4389-ba83-df93a6176f23",
   "metadata": {},
   "source": [
    "A class to represent an employee at GeeksForGeeks."
   ]
  },
  {
   "cell_type": "code",
   "execution_count": 3,
   "id": "7a40e487-463d-4790-98fe-1fd880d48a46",
   "metadata": {},
   "outputs": [
    {
     "name": "stdout",
     "output_type": "stream",
     "text": [
      "Hello my name is John and I work in GeeksForGeeks.\n"
     ]
    }
   ],
   "source": [
    "class GFG:\n",
    "    #Initializes the employee with a name and the company they work for.\n",
    "    def __init__(self, name, company):\n",
    "        self.name = name\n",
    "        self.company = company\n",
    "\n",
    "    #Displays information about the employee.\n",
    "    def show(self):\n",
    "        print(\"Hello my name is \" + self.name + \" and I work in \" + self.company + \".\")\n",
    "\n",
    "\n",
    "# Creating an instance of the GFG class\n",
    "obj = GFG(\"John\", \"GeeksForGeeks\")\n",
    "\n",
    "# Calling the show method to display the employee's information\n",
    "obj.show()"
   ]
  },
  {
   "cell_type": "markdown",
   "id": "e37fbc4b-4576-4745-8032-bf4890471f0c",
   "metadata": {},
   "source": [
    " "
   ]
  },
  {
   "cell_type": "markdown",
   "id": "48e97122-e833-4b90-a803-05d244f6c19d",
   "metadata": {},
   "source": [
    "A class to represent an employee at GeeksForGeeks.\n"
   ]
  },
  {
   "cell_type": "code",
   "execution_count": 4,
   "id": "e2aa8c22-ad5a-4775-9620-6cd266040d84",
   "metadata": {},
   "outputs": [
    {
     "name": "stdout",
     "output_type": "stream",
     "text": [
      "Hello my name is John and I work in GeeksForGeeks.\n"
     ]
    }
   ],
   "source": [
    "class GFG:\n",
    "    #Initializes the employee with a name and the company they work for.\n",
    "    def __init__(somename, name, company):\n",
    "        somename.name = name\n",
    "        somename.company = company\n",
    "    #Displays information about the employee.\n",
    "    def show(somename):\n",
    "        print(\"Hello my name is \" + somename.name + \" and I work in \" + somename.company + \".\")\n",
    "\n",
    "\n",
    "# Creating an instance of the GFG class\n",
    "obj = GFG(\"John\", \"GeeksForGeeks\")\n",
    "\n",
    "# Calling the show method to display the employee's information\n",
    "obj.show()\n"
   ]
  },
  {
   "cell_type": "markdown",
   "id": "41b861b3-45e2-4769-91ee-0ded74c7af03",
   "metadata": {},
   "source": [
    " "
   ]
  },
  {
   "cell_type": "markdown",
   "id": "2f90ca93-4dcd-44f8-aafd-b8c617f6a5a2",
   "metadata": {},
   "source": [
    "An empty class named MyClass."
   ]
  },
  {
   "cell_type": "code",
   "execution_count": 6,
   "id": "c1ecef38-97ff-494c-9d1b-d6e0a67ceabd",
   "metadata": {},
   "outputs": [],
   "source": [
    "class MyClass:\n",
    "    pass  # 'pass' is used as a placeholder to define an empty class."
   ]
  },
  {
   "cell_type": "markdown",
   "id": "9d240388-7d55-4689-84fe-b9f5406539b6",
   "metadata": {},
   "source": [
    " "
   ]
  },
  {
   "cell_type": "markdown",
   "id": "c44cbcc8-599b-4104-88a8-18d5ed805669",
   "metadata": {},
   "source": [
    "Define a class named Person"
   ]
  },
  {
   "cell_type": "code",
   "execution_count": null,
   "id": "b98a36ac-e6ad-41ad-925a-f701f06451f3",
   "metadata": {},
   "outputs": [],
   "source": [
    "class Person:\n",
    "    # It is used to initialize the object's state with the name attribute.\n",
    "    def __init__(self, name):\n",
    "        self.name = name  # Assign the value of the 'name' parameter to the 'name' attribute of the object.\n",
    "\n",
    "    # A method to print a greeting message that includes the person's name.\n",
    "    def say_hi(self):\n",
    "        print('Hello, my name is', self.name)\n",
    "\n",
    "\n",
    "# Create an instance of the Person class with the name 'Nikhil'\n",
    "p = Person('Nikhil')\n",
    "\n",
    "# Call the say_hi method of the object to print the greeting message\n",
    "p.say_hi()\n"
   ]
  },
  {
   "cell_type": "markdown",
   "id": "0d356d7c-480d-453a-984c-768337597b34",
   "metadata": {},
   "source": [
    " "
   ]
  },
  {
   "cell_type": "markdown",
   "id": "fe58c328-470d-475c-99ba-6ed132a4c64a",
   "metadata": {},
   "source": [
    "A class to represent an employee at GeeksForGeeks."
   ]
  },
  {
   "cell_type": "code",
   "execution_count": 7,
   "id": "bfa4768f-2d24-412b-b2ac-680a8c1ee128",
   "metadata": {},
   "outputs": [
    {
     "name": "stdout",
     "output_type": "stream",
     "text": [
      "My name is John and I work in GeeksForGeeks.\n"
     ]
    }
   ],
   "source": [
    "class GFG:\n",
    "    def __init__(self, name, company):\n",
    "        self.name = name\n",
    "        self.company = company\n",
    "\n",
    "    def __str__(self):\n",
    "        return f\"My name is {self.name} and I work in {self.company}.\"\n",
    "\n",
    "\n",
    "# Creating an instance of the GFG class\n",
    "my_obj = GFG(\"John\", \"GeeksForGeeks\")\n",
    "\n",
    "# Printing the object will automatically call the __str__ method\n",
    "print(my_obj)\n"
   ]
  },
  {
   "cell_type": "markdown",
   "id": "e5faeb80-a976-4683-83c1-fd127bef8141",
   "metadata": {},
   "source": [
    " "
   ]
  },
  {
   "cell_type": "markdown",
   "id": "b4a05cbd-1c47-49b5-9d76-a978d686bf71",
   "metadata": {},
   "source": [
    "Python3 program to demonstrate the difference between\n",
    "\n",
    "class variables and instance variables."
   ]
  },
  {
   "cell_type": "code",
   "execution_count": 12,
   "id": "6bc7ae9e-c891-4733-b769-df0a03dc9f57",
   "metadata": {},
   "outputs": [
    {
     "name": "stdout",
     "output_type": "stream",
     "text": [
      "Rodger details:\n",
      "Rodger is a dog\n",
      "Breed:  Pug\n",
      "Color:  brown\n",
      "\n",
      "Buzo details:\n",
      "Buzo is a dog\n",
      "Breed:  Bulldog\n",
      "Color:  black\n",
      "\n",
      "Accessing class variable using class name\n",
      "dog\n"
     ]
    }
   ],
   "source": [
    "#Dog class to represent the properties and behaviors of a dog.\n",
    "class Dog:\n",
    "    animal = 'dog'  # This variable is shared by all instances of the Dog class.\n",
    "\n",
    "    # Initializes a new Dog instance with a specific breed and color.\n",
    "    def __init__(self, breed, color):\n",
    "        # Instance Variables\n",
    "        self.breed = breed\n",
    "        self.color = color\n",
    "\n",
    "\n",
    "# Creating instances of the Dog class\n",
    "Rodger = Dog(\"Pug\", \"brown\")\n",
    "Buzo = Dog(\"Bulldog\", \"black\")\n",
    "\n",
    "# Displaying details of the Rodger instance\n",
    "print('Rodger details:')\n",
    "print('Rodger is a', Rodger.animal)\n",
    "print('Breed: ', Rodger.breed)\n",
    "print('Color: ', Rodger.color)\n",
    "\n",
    "# Displaying details of the Buzo instance\n",
    "print('\\nBuzo details:')\n",
    "print('Buzo is a', Buzo.animal)\n",
    "print('Breed: ', Buzo.breed)\n",
    "print('Color: ', Buzo.color)\n",
    "\n",
    "# Demonstrating that class variables can be accessed using the class name\n",
    "print(\"\\nAccessing class variable using class name\")\n",
    "print(Dog.animal)\n"
   ]
  },
  {
   "cell_type": "markdown",
   "id": "22ce4f86-4437-4a9c-8db2-e62188a0ded4",
   "metadata": {},
   "source": [
    " "
   ]
  },
  {
   "cell_type": "markdown",
   "id": "50ac74dc-2d34-44c4-8804-10c0a790ed92",
   "metadata": {},
   "source": [
    "Python3 program to demonstrate how to create and manipulate\n",
    "\n",
    "instance variables inside class methods."
   ]
  },
  {
   "cell_type": "code",
   "execution_count": 14,
   "id": "89469e0b-c417-4f48-90b8-bb07d42f63af",
   "metadata": {},
   "outputs": [
    {
     "name": "stdout",
     "output_type": "stream",
     "text": [
      "brown\n"
     ]
    }
   ],
   "source": [
    "\n",
    "class Dog:\n",
    "    animal = 'dog'  # This variable is shared by all instances of the Dog class.\n",
    "\n",
    "    # Initializes a new Dog instance with a specific breed.\n",
    "    def __init__(self, breed):\n",
    "        # Instance Variable\n",
    "        self.breed = breed\n",
    "\n",
    "    # Method to set the color instance variable\n",
    "    def setColor(self, color):\n",
    "        self.color = color  # Adds a new instance variable 'color' to the Dog instance.\n",
    "\n",
    "    # Method to retrieve the color instance variable\n",
    "    def getColor(self):\n",
    "        return self.color  # Returns the value of the 'color' instance variable.\n",
    "\n",
    "\n",
    "# Driver Code\n",
    "# Creating an instance of the Dog class\n",
    "Rodger = Dog(\"pug\")\n",
    "Rodger.setColor(\"brown\")  # Setting the color of Rodger using the setColor method\n",
    "print(Rodger.getColor())  # Retrieving and printing the color of Rodger using the getColor method\n"
   ]
  },
  {
   "cell_type": "markdown",
   "id": "66484c9c-041f-4ea1-9ca0-aad3c3366265",
   "metadata": {},
   "source": [
    " "
   ]
  }
 ],
 "metadata": {
  "kernelspec": {
   "display_name": "Python 3 (ipykernel)",
   "language": "python",
   "name": "python3"
  },
  "language_info": {
   "codemirror_mode": {
    "name": "ipython",
    "version": 3
   },
   "file_extension": ".py",
   "mimetype": "text/x-python",
   "name": "python",
   "nbconvert_exporter": "python",
   "pygments_lexer": "ipython3",
   "version": "3.11.7"
  }
 },
 "nbformat": 4,
 "nbformat_minor": 5
}
