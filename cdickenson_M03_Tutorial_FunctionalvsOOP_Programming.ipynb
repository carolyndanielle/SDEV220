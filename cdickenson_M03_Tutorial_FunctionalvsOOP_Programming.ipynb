{
 "cells": [
  {
   "cell_type": "markdown",
   "id": "d4f3aa0a-ade0-4b0c-b2cc-be1fba47bce7",
   "metadata": {},
   "source": [
    "SDEV220\n",
    "Carolyn Dickenson\n",
    "04/03/2024"
   ]
  },
  {
   "cell_type": "markdown",
   "id": "7775079a-eec6-4f38-83dd-b559c936538b",
   "metadata": {},
   "source": [
    "Sort an Array of 0s, 1s, and 2s\n",
    "\n",
    "- Given an array of size N containing only 0s, 1s, and 2s; sort the array in ascending order.\r\n",
    "\n",
    "Your Task:\n",
    "\r",
    "-  Your task is to complete the function sort012() that takes an array arr and N as input parameters and sorts the array in-place.\r\n",
    "\r\n",
    "\r\n",
    "Expected Time Complexity: O(N)\r\n",
    "Expected Auxiliary Space: O(1)\r\n",
    "\r\n",
    "\r\n",
    "Constraints:\r\n",
    "1 <= N <= 10^6\r\n",
    "0 <= A[i] <= 2\n",
    "\r\n"
   ]
  },
  {
   "cell_type": "code",
   "execution_count": 12,
   "id": "a5ba50e3-51f6-40db-9a8a-f4943b29cf13",
   "metadata": {},
   "outputs": [],
   "source": [
    "class Solution:\n",
    "    def sort012(self,arr,n):\n",
    "        low, mid, high = 0, 0, n-1\n",
    "        \n",
    "        while mid <= high:\n",
    "            if arr[mid] == 0:\n",
    "                arr[low], arr[mid] = arr[mid], arr[low]\n",
    "                low += 1\n",
    "                mid += 1\n",
    "            elif arr[mid] ==1:\n",
    "                mid += 1\n",
    "            else:\n",
    "                arr[mid], arr[high] = arr[high], arr[mid]\n",
    "                high -= 1\n",
    "        return arr"
   ]
  },
  {
   "cell_type": "markdown",
   "id": "4dc48a93-f09e-4668-9489-b0224a1cd83c",
   "metadata": {},
   "source": [
    "Binary Search\n",
    "\n",
    "- Given a sorted array of size N and an integer K, find the position(0-based indexing) at which K is present in the array using binary search.\n",
    "\n",
    "Your Task:  \n",
    "\n",
    "- Complete the function binarysearch() which takes arr[], N and K as input parameters and returns the index of K in the array.\n",
    "- If K is not present in the array, return -1.\n",
    "\n",
    "\n",
    "\n",
    "Expected Time Complexity: O(LogN)\n",
    "\n",
    "\n",
    "Expected Auxiliary Space: O(LogN) if solving recursively and O(1) otherwise.\r\n",
    "\r\n",
    "\r\n",
    "Constraints:\r\n",
    "\r\n",
    "1 <= N <= 105\r\n",
    "1 <= arr[i] <= 106\r\n",
    "1 <= K <= 106"
   ]
  },
  {
   "cell_type": "code",
   "execution_count": null,
   "id": "7a40e487-463d-4790-98fe-1fd880d48a46",
   "metadata": {},
   "outputs": [],
   "source": [
    "class Solution:\t\n",
    "\tdef binarysearch(self, arr, n, k):\n",
    "\t    low = 0\n",
    "\t    high = n -1\n",
    "\t    \n",
    "\t    while low <= high:\n",
    "\t        mid = (low + high) // 2\n",
    "\t        if arr[mid] == k:\n",
    "\t            return mid\n",
    "\t        elif arr[mid] < k:\n",
    "\t            low = mid + 1\n",
    "\t        else:\n",
    "\t            high = mid -1\n",
    "        return -1"
   ]
  },
  {
   "cell_type": "code",
   "execution_count": null,
   "id": "581e60db-c4d5-4fbe-b880-ef6ec9b83b80",
   "metadata": {},
   "outputs": [],
   "source": []
  }
 ],
 "metadata": {
  "kernelspec": {
   "display_name": "Python 3 (ipykernel)",
   "language": "python",
   "name": "python3"
  },
  "language_info": {
   "codemirror_mode": {
    "name": "ipython",
    "version": 3
   },
   "file_extension": ".py",
   "mimetype": "text/x-python",
   "name": "python",
   "nbconvert_exporter": "python",
   "pygments_lexer": "ipython3",
   "version": "3.11.7"
  }
 },
 "nbformat": 4,
 "nbformat_minor": 5
}
