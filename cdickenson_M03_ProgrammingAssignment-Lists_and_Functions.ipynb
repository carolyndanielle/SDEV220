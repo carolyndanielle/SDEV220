{
 "cells": [
  {
   "cell_type": "markdown",
   "id": "e1954406-3fe6-43f5-b4a0-a4982c42f9e6",
   "metadata": {},
   "source": [
    "SDEV220\n",
    "Carolyn Dickenson\n",
    "04/03/2024"
   ]
  },
  {
   "cell_type": "markdown",
   "id": "7fc38f46-f5a8-478d-a806-58ba199cd64c",
   "metadata": {},
   "source": [
    "7.4 Make a list called things with these three strings as elements: \"mozzarella\", \"cinderella\", \"salmonella\"."
   ]
  },
  {
   "cell_type": "code",
   "execution_count": 7,
   "id": "c695ec78-8ecf-4f8b-b199-38cecd7c5683",
   "metadata": {},
   "outputs": [],
   "source": [
    "things = [\"mozzarella\", \"cinderella\", \"salmonella\"]"
   ]
  },
  {
   "cell_type": "markdown",
   "id": "d49d9093-ed6a-4d29-9c6c-54d48afb69e7",
   "metadata": {},
   "source": [
    " "
   ]
  },
  {
   "cell_type": "markdown",
   "id": "ba024025-12e0-41dd-bd91-09b0719a0bf4",
   "metadata": {},
   "source": [
    "7.5 Capitalize the element in things that refers to a person and then print the list. Did it change the element in the list?"
   ]
  },
  {
   "cell_type": "code",
   "execution_count": 8,
   "id": "c7272609-a519-4c49-89fd-309456309f10",
   "metadata": {},
   "outputs": [
    {
     "name": "stdout",
     "output_type": "stream",
     "text": [
      "['mozzarella', 'Cinderella', 'salmonella']\n"
     ]
    }
   ],
   "source": [
    "things[1] = things[1].capitalize()\n",
    "print(things)"
   ]
  },
  {
   "cell_type": "markdown",
   "id": "c1cd7d8c-f32d-4893-a9e7-381997909a1f",
   "metadata": {},
   "source": [
    "This code will change the elemment in the list, as it assigns a new value to 'things[1]'."
   ]
  },
  {
   "cell_type": "markdown",
   "id": "3ec54efc-63c6-4c39-8f94-a577540576aa",
   "metadata": {},
   "source": [
    " "
   ]
  },
  {
   "cell_type": "markdown",
   "id": "440a53e1-551c-4c46-862b-d8fa390bc166",
   "metadata": {},
   "source": [
    "7.6 Make the cheesy element of things all uppercase and then print the list.\r\n"
   ]
  },
  {
   "cell_type": "code",
   "execution_count": 10,
   "id": "f5f14347-aada-40f5-9557-a91eff0982ae",
   "metadata": {},
   "outputs": [
    {
     "name": "stdout",
     "output_type": "stream",
     "text": [
      "['MOZZARELLA', 'Cinderella', 'salmonella']\n"
     ]
    }
   ],
   "source": [
    "things[0] = things[0].upper()\n",
    "print(things)"
   ]
  },
  {
   "cell_type": "markdown",
   "id": "60a59d70-f80a-42fd-9f38-9bff8f36563b",
   "metadata": {},
   "source": [
    " "
   ]
  },
  {
   "cell_type": "markdown",
   "id": "3ffa0319-901e-4ae4-a4ff-6e6559be2b87",
   "metadata": {},
   "source": [
    "7.7 Delete the disease element from things, collect your Nobel Prize, and print the list."
   ]
  },
  {
   "cell_type": "code",
   "execution_count": 13,
   "id": "bf468cfe-bccd-4a88-aece-21e30e4d5f2d",
   "metadata": {},
   "outputs": [
    {
     "name": "stdout",
     "output_type": "stream",
     "text": [
      "['MOZZARELLA', 'Cinderella']\n"
     ]
    }
   ],
   "source": [
    "if len(things) > 2:\n",
    "    del things[2]\n",
    "print(things)"
   ]
  },
  {
   "cell_type": "markdown",
   "id": "61eb6948-70ab-4de5-ba12-07a35f8f6d3e",
   "metadata": {},
   "source": [
    " "
   ]
  },
  {
   "cell_type": "markdown",
   "id": "d982df8f-3125-467c-a1aa-bbff9a5668d8",
   "metadata": {},
   "source": [
    "9.1 Define a function called good() that returns the following list: ['Harry', 'Ron', 'Hermione']."
   ]
  },
  {
   "cell_type": "code",
   "execution_count": 14,
   "id": "d914c44b-2c3a-4876-9b50-3b2970c485ec",
   "metadata": {},
   "outputs": [
    {
     "name": "stdout",
     "output_type": "stream",
     "text": [
      "['Harry', 'Ron', 'Hermione']\n"
     ]
    }
   ],
   "source": [
    "def good():\n",
    "    return['Harry', 'Ron', 'Hermione']\n",
    "\n",
    "print(good())"
   ]
  },
  {
   "cell_type": "markdown",
   "id": "64369dbf-4b40-43f5-8905-5ee55928c67e",
   "metadata": {},
   "source": [
    " "
   ]
  },
  {
   "cell_type": "markdown",
   "id": "bd2671ab-c885-4d13-b7d6-c526e712511a",
   "metadata": {},
   "source": [
    "9.2 Define a generator function called get_odds() that returns the odd numbers from range(10). Use a for loop to find and print the third value returned."
   ]
  },
  {
   "cell_type": "code",
   "execution_count": 15,
   "id": "c023224f-5948-4c89-a679-1886162f7163",
   "metadata": {},
   "outputs": [
    {
     "name": "stdout",
     "output_type": "stream",
     "text": [
      "The third odd number is:  5\n"
     ]
    }
   ],
   "source": [
    "def get_odds():\n",
    "    for number in range(10):\n",
    "        if number % 2 != 0:\n",
    "            yield number\n",
    "\n",
    "# initialize a counter\n",
    "count = 1\n",
    "\n",
    "# loop through generator\n",
    "for number in get_odds():\n",
    "    if count == 3:\n",
    "        print(\"The third odd number is: \",number)\n",
    "        break\n",
    "    count += 1"
   ]
  },
  {
   "cell_type": "markdown",
   "id": "4aa87a60-a566-4061-b049-2747cc323d3a",
   "metadata": {},
   "source": [
    "get_odds() is a generator function that yields odd numbers from 0 to 9. The for loop then iterates over these numbers and when the counter reaches 3 it then prints the third odd number before exiting the loop."
   ]
  },
  {
   "cell_type": "markdown",
   "id": "eacf4819-67ee-4ec1-80b3-95efa704c438",
   "metadata": {},
   "source": [
    " "
   ]
  }
 ],
 "metadata": {
  "kernelspec": {
   "display_name": "Python 3 (ipykernel)",
   "language": "python",
   "name": "python3"
  },
  "language_info": {
   "codemirror_mode": {
    "name": "ipython",
    "version": 3
   },
   "file_extension": ".py",
   "mimetype": "text/x-python",
   "name": "python",
   "nbconvert_exporter": "python",
   "pygments_lexer": "ipython3",
   "version": "3.11.7"
  }
 },
 "nbformat": 4,
 "nbformat_minor": 5
}
