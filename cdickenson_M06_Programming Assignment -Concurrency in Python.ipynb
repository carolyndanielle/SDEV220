{
 "cells": [
  {
   "cell_type": "markdown",
   "id": "94cc50dd-7be9-4773-b7df-81012bb285a3",
   "metadata": {},
   "source": [
    "SDEV220 Carolyn Dickenson 04/24/2024"
   ]
  },
  {
   "cell_type": "code",
   "execution_count": 17,
   "id": "cb59b9ef-d4e9-495e-b891-f97355386e9d",
   "metadata": {},
   "outputs": [
    {
     "name": "stdout",
     "output_type": "stream",
     "text": [
      "Date read from file: 2024-04-28\n",
      "Parsed date object: 2024-04-28\n",
      "Current time: 2024-04-28 18:04:00.145460\n"
     ]
    }
   ],
   "source": [
    "from datetime import date, datetime\n",
    "import multiprocessing\n",
    "import time\n",
    "import random\n",
    "\n",
    "# Section 13.1: Write the current date as a string to the text file today.txt\n",
    "def write_date_to_file():\n",
    "    file_path = \"today.txt\"  # Adjust this path if needed based on your local environment\n",
    "    with open(file_path, \"w\") as file:\n",
    "        file.write(str(date.today()))\n",
    "\n",
    "# Section 13.2: Read the text file today.txt into the string today_string\n",
    "def read_date_from_file():\n",
    "    file_path = \"today.txt\"  # Ensure this matches the path used in write_date_to_file\n",
    "    with open(file_path, \"r\") as file:\n",
    "        today_string = file.read()\n",
    "    return today_string\n",
    "\n",
    "# Section 13.3: Parse the date from today_string\n",
    "def parse_date_from_string(today_string):\n",
    "    return date.fromisoformat(today_string)\n",
    "\n",
    "# 15.1 Use multiprocessing to create three separate processes.\n",
    "# Make each one wait a random number of seconds between zero and one, print the current time, and then exit.\n",
    "def print_current_time():\n",
    "    time.sleep(random.uniform(0, 1))  # Sleep for a random time between 0 and 1 second\n",
    "    print(f\"Current time: {datetime.now()}\")\n",
    "\n",
    "def create_multiprocessing_tasks():\n",
    "    # Create three separate processes\n",
    "    processes = [multiprocessing.Process(target=print_current_time) for _ in range(3)]\n",
    "\n",
    "\n",
    "    # Start each process\n",
    "    for process in processes:\n",
    "        process.start()\n",
    "\n",
    "    # Wait for all processes to complete\n",
    "    for process in processes:\n",
    "        process.join()\n",
    "\n",
    "if __name__ == '__main__':\n",
    "    # Usage of the functions\n",
    "    write_date_to_file()\n",
    "    today_string = read_date_from_file()\n",
    "    parsed_date = parse_date_from_string(today_string)\n",
    "    create_multiprocessing_tasks()\n",
    "\n",
    "    print(\"Date read from file:\", today_string)\n",
    "    print(\"Parsed date object:\", parsed_date)\n",
    "    print(f\"Current time: {datetime.now()}\")"
   ]
  },
  {
   "cell_type": "code",
   "execution_count": null,
   "id": "cab8ece2-2f8f-4420-8675-f8261306595e",
   "metadata": {},
   "outputs": [],
   "source": []
  }
 ],
 "metadata": {
  "kernelspec": {
   "display_name": "Python 3 (ipykernel)",
   "language": "python",
   "name": "python3"
  },
  "language_info": {
   "codemirror_mode": {
    "name": "ipython",
    "version": 3
   },
   "file_extension": ".py",
   "mimetype": "text/x-python",
   "name": "python",
   "nbconvert_exporter": "python",
   "pygments_lexer": "ipython3",
   "version": "3.11.7"
  }
 },
 "nbformat": 4,
 "nbformat_minor": 5
}
