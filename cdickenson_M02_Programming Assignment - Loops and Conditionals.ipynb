{
 "cells": [
  {
   "cell_type": "markdown",
   "id": "7baedceb-1942-46e4-9746-d884c4ad33a6",
   "metadata": {},
   "source": [
    "SDEV220\n",
    "Carolyn Dickenson\n",
    "03/22/2024"
   ]
  },
  {
   "cell_type": "markdown",
   "id": "3b28a370-9f8d-4b36-b5df-1881d4dd7fe2",
   "metadata": {},
   "source": [
    "4.1 Choose a number between 1 and 10 and assign it to the variable secret. Then, select another number between 1 and 10 and assign it to the variable guess. Next, write the conditional tests (if, else, and elif) to print the string 'too low' if guess is less than secret, 'too high' if greater than secret, and 'just right' if equal to secret.\n",
    "\n",
    "Answer: The code checks if the guess is too low, too high or just right compared to the secret number."
   ]
  },
  {
   "cell_type": "code",
   "execution_count": 14,
   "id": "9efbac2c-603f-4ca5-b4cc-dc908a4d161f",
   "metadata": {},
   "outputs": [
    {
     "name": "stdout",
     "output_type": "stream",
     "text": [
      "too low\n"
     ]
    }
   ],
   "source": [
    "# 4.1 \n",
    "# Assigning values to secret and guess.\n",
    "secret = 7\n",
    "guess = 5\n",
    "\n",
    "# conditional tests\n",
    "if guess < secret:\n",
    "    print('too low')\n",
    "elif guess > secret:\n",
    "    print ('too high')\n",
    "else:\n",
    "    print('just right')"
   ]
  },
  {
   "cell_type": "markdown",
   "id": "217e144f-1236-4101-89e6-2d56f2552086",
   "metadata": {},
   "source": [
    " "
   ]
  },
  {
   "cell_type": "markdown",
   "id": "ac4c80cb-a0a7-4625-92cb-3716fad57586",
   "metadata": {},
   "source": [
    "4.2 Assign True or False to the variables small and green. Write some if/else statements to print which of these matches those choices: cherry, pea, watermelon, pumpkin.\n",
    "\n",
    "Answer: The code classifies objects base on their size ('small') and color ('green'). It prints the name of the object that matches the given characteristics."
   ]
  },
  {
   "cell_type": "code",
   "execution_count": 15,
   "id": "4b9f46f4-919c-49dc-8efa-ff80268226ff",
   "metadata": {},
   "outputs": [
    {
     "name": "stdout",
     "output_type": "stream",
     "text": [
      "cherry\n"
     ]
    }
   ],
   "source": [
    "# 4.2 \n",
    "# Assigning values to small and green.\n",
    "small = True\n",
    "green = False\n",
    "\n",
    "# conditional statements\n",
    "if small:\n",
    "    if green:\n",
    "        print('pea')\n",
    "    else:\n",
    "        print('cherry')\n",
    "else:\n",
    "    if green:\n",
    "        print('watermelon')\n",
    "    else:\n",
    "        print('pumpkin')"
   ]
  },
  {
   "cell_type": "markdown",
   "id": "763b95ef-c904-4c2c-a4ef-fa9760b8a494",
   "metadata": {},
   "source": [
    " "
   ]
  },
  {
   "cell_type": "markdown",
   "id": "0f5e47a1-c6f2-4f53-b23a-bd9e3330a5e6",
   "metadata": {},
   "source": [
    "6.1 Use a for loop to print the values of the list [3, 2, 1, 0].\n",
    "\n",
    "Answer: The code uses a for loop to iterate through a list of numbers and prints each number."
   ]
  },
  {
   "cell_type": "code",
   "execution_count": 16,
   "id": "f38aeb14-c2a7-41c2-b912-075c87bab3dd",
   "metadata": {},
   "outputs": [
    {
     "name": "stdout",
     "output_type": "stream",
     "text": [
      "3\n",
      "2\n",
      "1\n",
      "0\n"
     ]
    }
   ],
   "source": [
    "# 6.1\n",
    "# Using a for loop to print values.\n",
    "for value in [3, 2, 1, 0]:\n",
    "    print(value)"
   ]
  },
  {
   "cell_type": "markdown",
   "id": "9508239c-9e90-4dba-9136-63e17fa78f53",
   "metadata": {},
   "source": [
    " "
   ]
  },
  {
   "cell_type": "markdown",
   "id": "8e48f52b-496d-4910-8f22-cbb9d529e6d6",
   "metadata": {},
   "source": [
    "6.2 Assign the value 7 to the variable guess_me, and the value 1 to the variable number. \n",
    "Write a while loop that compares number with guess_me. Print 'too low' if number is less than guess me. \n",
    "If number equals guess_me, print 'found it!' and then exit the loop. If number is greater than guess_me, \n",
    "print 'oops' and then exit the loop. Increment number at the end of the loop.\n",
    "\n",
    "Answer:The code uses a while loop to incrementally guess a number until it matches the guess_me value. It prints \"too low\", \"found it!\", or \"oops\" based on the comparison."
   ]
  },
  {
   "cell_type": "code",
   "execution_count": 17,
   "id": "b8ca0bf6-d182-46bc-958e-4572178395cd",
   "metadata": {},
   "outputs": [
    {
     "name": "stdout",
     "output_type": "stream",
     "text": [
      "too low\n",
      "too low\n",
      "too low\n",
      "too low\n",
      "too low\n",
      "too low\n",
      "found it!\n",
      "oops\n"
     ]
    }
   ],
   "source": [
    "# 6.2\n",
    "# Assigning values to guess_me and number.\n",
    "guess_me = 7\n",
    "number = 1\n",
    "\n",
    "#while loop\n",
    "while True:\n",
    "    if number < guess_me:\n",
    "        print('too low')\n",
    "    elif number == guess_me:\n",
    "        print('found it!')\n",
    "    else:\n",
    "        print('oops')\n",
    "        break\n",
    "    number += 1"
   ]
  },
  {
   "cell_type": "markdown",
   "id": "c0d300a8-35da-4e7b-bb12-83c370108cd1",
   "metadata": {},
   "source": [
    " "
   ]
  },
  {
   "cell_type": "markdown",
   "id": "506131ef-5389-494f-89ea-e80968f6b121",
   "metadata": {},
   "source": [
    "6.3 Assign the value 5 to the variable guess_me. Use a for loop to iterate a variable called number over range(10). If number is less than guess_me, print 'too low'. If it equals guess_me, print found it! and then break out of the for loop. If number is greater than guess_me, print 'oops' and then exit the loop.\n",
    "\n",
    "Answer: The code uses a for loop to iterate through a range of numbers and compares each number to the guess_me value. It prints \"too low\", \"found it!\", or \"oops\" based on the comparison."
   ]
  },
  {
   "cell_type": "code",
   "execution_count": 18,
   "id": "59aa1ca5-5b67-43dc-9baf-e6f63b92220d",
   "metadata": {},
   "outputs": [
    {
     "name": "stdout",
     "output_type": "stream",
     "text": [
      "too low\n",
      "too low\n",
      "too low\n",
      "too low\n",
      "too low\n",
      "found it!\n"
     ]
    }
   ],
   "source": [
    "# 6.3\n",
    "# Assigning value to guess_me\n",
    "guess_me = 5\n",
    "\n",
    "# for loop\n",
    "for number in range(10):\n",
    "    if number < guess_me:\n",
    "        print('too low')\n",
    "    elif number == guess_me:\n",
    "        print('found it!')\n",
    "        break\n",
    "    else:\n",
    "        print('oops')\n",
    "        break"
   ]
  }
 ],
 "metadata": {
  "kernelspec": {
   "display_name": "Python 3 (ipykernel)",
   "language": "python",
   "name": "python3"
  },
  "language_info": {
   "codemirror_mode": {
    "name": "ipython",
    "version": 3
   },
   "file_extension": ".py",
   "mimetype": "text/x-python",
   "name": "python",
   "nbconvert_exporter": "python",
   "pygments_lexer": "ipython3",
   "version": "3.11.7"
  }
 },
 "nbformat": 4,
 "nbformat_minor": 5
}
