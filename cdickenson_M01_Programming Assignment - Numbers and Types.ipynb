{
 "cells": [
  {
   "cell_type": "code",
   "execution_count": 6,
   "id": "7f69492d-73d5-4232-b88b-dcf8a48b1d63",
   "metadata": {},
   "outputs": [
    {
     "name": "stdout",
     "output_type": "stream",
     "text": [
      "Seconds in an hour: 3600\n"
     ]
    }
   ],
   "source": [
    "## 3.1 How many seconds are in an hour? Use the interactive interpreter as a calculator and multiply the number of seconds in a minute (60)\n",
    "## by the number of minutes in an hour (also 60).\n",
    "\n",
    "seconds_per_minute = 60\n",
    "minutes_per_hour = 60\n",
    "seconds_per_hour = seconds_per_minute * minutes_per_hour\n",
    "print(f\"Seconds in an hour: {seconds_per_hour}\")"
   ]
  },
  {
   "cell_type": "code",
   "execution_count": 8,
   "id": "fa813091-5278-4204-87bc-0e3fe9cde1f5",
   "metadata": {},
   "outputs": [],
   "source": [
    "## 3.2 Assign the result from the previous task (seconds in an hour) to a variable called seconds_per_hour.\n",
    "\n",
    "seconds_per_hour = seconds_per_minute * minutes_per_hour"
   ]
  },
  {
   "cell_type": "code",
   "execution_count": 9,
   "id": "5c30500c-d5c3-4b63-824c-a16780921d3b",
   "metadata": {},
   "outputs": [
    {
     "name": "stdout",
     "output_type": "stream",
     "text": [
      "86400\n"
     ]
    }
   ],
   "source": [
    "## 3.3 How many seconds are in a day? Use your seconds_per_hour variable.\n",
    "\n",
    "hours_per_day = 24\n",
    "seconds_per_day = seconds_per_hour * hours_per_day\n",
    "print(seconds_per_day)"
   ]
  },
  {
   "cell_type": "code",
   "execution_count": null,
   "id": "1b9271ad-5d7e-45e5-a797-6837376f8bbf",
   "metadata": {},
   "outputs": [],
   "source": [
    "## 3.4 Calculate seconds per day again, but this time save the result in a variable called seconds_per_day.\n",
    "\n",
    "seconds_per_day = seconds_per_hour * hours_per_day"
   ]
  },
  {
   "cell_type": "code",
   "execution_count": 10,
   "id": "99f3e9e5-cf15-445f-b904-d95c53562279",
   "metadata": {},
   "outputs": [
    {
     "name": "stdout",
     "output_type": "stream",
     "text": [
      "24.0\n"
     ]
    }
   ],
   "source": [
    "## 3.5 Divide seconds_per_day by seconds_per_hour. Use floating-point (/) division.\n",
    "\n",
    "hours_in_day_float = seconds_per_day / seconds_per_hour\n",
    "print(hours_in_day_float)"
   ]
  },
  {
   "cell_type": "code",
   "execution_count": 11,
   "id": "6b771935-5fe5-48f0-a782-b7138bb7ee65",
   "metadata": {},
   "outputs": [
    {
     "name": "stdout",
     "output_type": "stream",
     "text": [
      "24.0\n"
     ]
    }
   ],
   "source": [
    "## 3.6 Divide seconds_per_day by seconds_per_hour, using integer (//) division. \n",
    "## Did this number agree with the floating-point value from the previous question, aside from the final .0?\n",
    "\n",
    "hours_in_day_int = seconds_per_day / seconds_per_hour\n",
    "print(hours_in_day_int)"
   ]
  }
 ],
 "metadata": {
  "kernelspec": {
   "display_name": "Python 3 (ipykernel)",
   "language": "python",
   "name": "python3"
  },
  "language_info": {
   "codemirror_mode": {
    "name": "ipython",
    "version": 3
   },
   "file_extension": ".py",
   "mimetype": "text/x-python",
   "name": "python",
   "nbconvert_exporter": "python",
   "pygments_lexer": "ipython3",
   "version": "3.11.7"
  }
 },
 "nbformat": 4,
 "nbformat_minor": 5
}
